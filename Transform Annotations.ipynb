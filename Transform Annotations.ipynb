{
 "cells": [
  {
   "cell_type": "code",
   "execution_count": 1,
   "id": "39c2d6fe-39a1-4ca2-b9fe-11b20b3d1a4d",
   "metadata": {},
   "outputs": [],
   "source": [
    "import os\n",
    "import json\n",
    "import numpy as np\n",
    "import cv2\n",
    "import glob\n",
    "from pycocotools.coco import COCO\n",
    "from pycocotools import mask as coco_mask\n",
    "import torch\n",
    "from torch.utils.data import Dataset, DataLoader\n",
    "import random\n",
    "from common import *\n",
    "import re\n",
    "from PIL import Image, ImageFile\n",
    "ImageFile.LOAD_TRUNCATED_IMAGES = True\n",
    "import itertools"
   ]
  },
  {
   "cell_type": "code",
   "execution_count": 2,
   "id": "a8c98e1b-317a-4e32-a7d4-6db2320732d4",
   "metadata": {},
   "outputs": [],
   "source": [
    "def convert_coco_poly_to_mask(segmentations, height, width):\n",
    "    masks = []\n",
    "    for polygons in segmentations:\n",
    "        if isinstance(polygons['counts'], list):\n",
    "            rles = coco_mask.frPyObjects(polygons, height, width)\n",
    "        \n",
    "        else:\n",
    "            rles = [polygons]\n",
    "\n",
    "        mask = coco_mask.decode(rles)\n",
    "        if len(mask.shape) < 3:\n",
    "            mask = mask[..., None]\n",
    "        #mask = torch.as_tensor(mask, dtype=torch.uint8)\n",
    "        #mask = mask.any(dim=2)\n",
    "        masks.append(mask)\n",
    "    # if masks:\n",
    "    #     masks = torch.stack(masks, dim=0)\n",
    "    # else:\n",
    "    #     masks = torch.zeros((0, height, width), dtype=torch.uint8)\n",
    "    return masks"
   ]
  },
  {
   "cell_type": "code",
   "execution_count": 3,
   "id": "f4fa27bf-b23f-4e98-bc77-f13d3bb141e2",
   "metadata": {},
   "outputs": [],
   "source": [
    "annotation_indices = [28, 33, 42, 59]"
   ]
  },
  {
   "cell_type": "code",
   "execution_count": 4,
   "id": "5337545c-95af-4fdd-b6ee-2337d18985c1",
   "metadata": {},
   "outputs": [],
   "source": [
    "# file_path = f\"/storage/user/brasoand/motsyn2/annotations/{str(idx).zfill(3)}.json\"\n",
    "# with open(file_path) as fp:\n",
    "#     annotation_19 = json.load(fp)\n",
    "    \n",
    "# file_path_28 = \"/storage/user/brasoand/motsyn2/annotations/028.json\"\n",
    "# with open(file_path_28) as fp:\n",
    "#     annotation_28 = json.load(fp)"
   ]
  },
  {
   "cell_type": "code",
   "execution_count": 5,
   "id": "ee449e06-2b1f-4885-8cfc-4e6df47fc17e",
   "metadata": {},
   "outputs": [],
   "source": [
    "annotations_list = []\n",
    "for idx in annotation_indices:\n",
    "    file_path = f\"/storage/user/brasoand/motsyn2/annotations/{str(idx).zfill(3)}.json\"\n",
    "    with open(file_path) as fp:\n",
    "        annotations_list.append(json.load(fp))"
   ]
  },
  {
   "cell_type": "code",
   "execution_count": 6,
   "id": "1a9f820d-b58c-4071-8661-5a3f4de38f44",
   "metadata": {},
   "outputs": [
    {
     "data": {
      "text/plain": [
       "dict_keys(['id', 'image_id', 'category_id', 'segmentation', 'area', 'bbox', 'iscrowd', 'keypoints', 'keypoints_3d', 'num_keypoints', 'ped_id', 'model_id', 'attributes', 'frame_n', 'seq_name', 'is_night', 'weather', 'rec_time', 'is_moving'])"
      ]
     },
     "execution_count": 6,
     "metadata": {},
     "output_type": "execute_result"
    }
   ],
   "source": [
    "annotations_list[0]['annotations'][0].keys()"
   ]
  },
  {
   "cell_type": "code",
   "execution_count": 7,
   "id": "ae02523a-062b-491d-a5ba-57916d46e3a0",
   "metadata": {},
   "outputs": [
    {
     "data": {
      "text/plain": [
       "dict_keys(['info', 'licences', 'images', 'annotations', 'categories'])"
      ]
     },
     "execution_count": 7,
     "metadata": {},
     "output_type": "execute_result"
    }
   ],
   "source": [
    "annotations_list[0].keys()"
   ]
  },
  {
   "cell_type": "code",
   "execution_count": 8,
   "id": "6a271f9a-98c0-4a59-87d7-eb20c80ebbf8",
   "metadata": {},
   "outputs": [],
   "source": [
    "for annotation in annotations_list:\n",
    "    for idx, ann in enumerate(annotation['annotations']):\n",
    "        try:\n",
    "            ann['video_id'] = ann.pop('image_id')\n",
    "            masks = convert_coco_poly_to_mask([ann['segmentation']], 1920, 1080)\n",
    "            ann['segmentation'] = coco_mask.encode(masks[0][:,0:1080])[0]\n",
    "        except Exception as e:\n",
    "            print(ann)\n",
    "            raise e"
   ]
  },
  {
   "cell_type": "code",
   "execution_count": 9,
   "id": "532e5ac6-41b9-4cb3-ad8c-fdbc7d830916",
   "metadata": {},
   "outputs": [],
   "source": [
    "for annotation in annotations_list:\n",
    "    annotation['annotations'] = [ann for ann in annotation['annotations'] if ann[\"video_id\"] % 5 == 0]\n",
    "    annotation['annotations'] = [ann for ann in annotation['annotations'] if ann[\"category_id\"] == 1]"
   ]
  },
  {
   "cell_type": "code",
   "execution_count": 10,
   "id": "6426f18a-306d-4666-823b-00b4b795a35e",
   "metadata": {},
   "outputs": [],
   "source": [
    "backup_annotations_list = annotations_list.copy()\n",
    "#"
   ]
  },
  {
   "cell_type": "code",
   "execution_count": null,
   "id": "08145d7d-ac1b-40f0-bf9f-e2c492050040",
   "metadata": {},
   "outputs": [],
   "source": [
    "# backup_annotations_list = annotations_list.copy()\n",
    "annotations_list = backup_annotations_list.copy()"
   ]
  },
  {
   "cell_type": "code",
   "execution_count": null,
   "id": "3185adc9-0611-4abe-bbf9-b1ee3dec049b",
   "metadata": {},
   "outputs": [],
   "source": [
    "type(annotations_list[0][\"annotations\"][0][\"keypoints\"])"
   ]
  },
  {
   "cell_type": "code",
   "execution_count": null,
   "id": "5d5dbd3f-51e5-4991-b81b-c8a34038f0fb",
   "metadata": {},
   "outputs": [],
   "source": [
    "annotations_list[0][\"annotations\"][0][\"bbox\"]"
   ]
  },
  {
   "cell_type": "code",
   "execution_count": 11,
   "id": "d5f13a38-cb35-42de-8f1f-e906672c4b85",
   "metadata": {},
   "outputs": [
    {
     "name": "stdout",
     "output_type": "stream",
     "text": [
      "77\n",
      "72\n",
      "96\n",
      "55\n"
     ]
    }
   ],
   "source": [
    "evaluation_annotation_file = {}\n",
    "evaluation_annotation_file['info'] = {'description': 'MOTSynth 2021 Dataset - Sequence #59',\n",
    "                                     'url': 'http://aimagelab.ing.unimore.it/jta',\n",
    "                                     'version': '1.0',\n",
    "                                     'year': 2021,\n",
    "                                     'contributor': 'AImageLab',\n",
    "                                     'date_created': '2021/01/22'}\n",
    "evaluation_annotation_file['videos'] = []\n",
    "evaluation_annotation_file['annotations'] = []\n",
    "evaluation_annotation_file['categories'] = [{'supercategory': 'object', 'id': 1, 'name': 'person'}]\n",
    "\n",
    "\n",
    "none_mask = np.zeros((1080,1080), dtype=np.uint8)\n",
    "none_mask = coco_mask.encode(np.asfortranarray(none_mask))\n",
    "none_mask[\"counts\"] = none_mask[\"counts\"].decode(\"utf-8\")\n",
    "\n",
    "\n",
    "for a_idx, annotation in enumerate(annotations_list):\n",
    "    annotation[\"videos\"] = []\n",
    "    ped_ids = list(set([ann[\"ped_id\"] for ann in annotation['annotations'] if ann[\"video_id\"] % 5 == 0]))\n",
    "    videos_dict = {\"id\" : int(annotation['images'][0]['file_name'].split(\"/\")[1]),\n",
    "                   \"width\" : 1080,\n",
    "                   \"height\" : 1080,\n",
    "                   \"length\" : 360,\n",
    "                   \"file_names\" : [img['file_name'] for img in annotation['images'] if int(img['file_name'].split(\"/\")[-1].split(\".\")[0]) % 5 == 0]}\n",
    "    \n",
    "    \n",
    "    annotations_dict = [{\"id\" : int,\n",
    "                   \"video_id\" : int,\n",
    "                   \"category_id\" : int,\n",
    "                   \"iscrowd\" : int,\n",
    "                   \"areas\" : [None for i in range(360)],\n",
    "                   \"segmentations\": [none_mask.copy() for i in range(360)],\n",
    "                   \"bboxes\": [None for i in range(360)]} for x in ped_ids]\n",
    "    for idx, ann in enumerate(annotation['annotations']):\n",
    "        current_ped_id = ann[\"ped_id\"]\n",
    "        current_ped_id_idx = ped_ids.index(current_ped_id)\n",
    "        current_frame_no = int(int(ann[\"video_id\"] % 10000) / 5)\n",
    "        current_segmentation = ann[\"segmentation\"]\n",
    "        current_segmentation[\"counts\"] = current_segmentation[\"counts\"].decode(\"utf-8\")\n",
    "        current_category_id = ann[\"category_id\"]\n",
    "        current_area = ann[\"area\"]\n",
    "        current_bbox = ann[\"bbox\"]\n",
    "        current_iscrowd = ann[\"iscrowd\"]\n",
    "        annotations_dict[current_ped_id_idx][\"id\"] = current_ped_id\n",
    "        annotations_dict[current_ped_id_idx][\"areas\"][current_frame_no] = current_area\n",
    "        annotations_dict[current_ped_id_idx][\"bboxes\"][current_frame_no] = current_bbox\n",
    "        annotations_dict[current_ped_id_idx][\"segmentations\"][current_frame_no] = current_segmentation\n",
    "        annotations_dict[current_ped_id_idx][\"category_id\"] = current_category_id\n",
    "        annotations_dict[current_ped_id_idx][\"video_id\"] = int(ann[\"video_id\"] // 10000)\n",
    "        annotations_dict[current_ped_id_idx][\"iscrowd\"] = current_iscrowd\n",
    "        \n",
    "    evaluation_annotation_file['videos'].append(videos_dict)\n",
    "    print(len(annotations_dict))\n",
    "    evaluation_annotation_file['annotations'].extend(annotations_dict)\n"
   ]
  },
  {
   "cell_type": "code",
   "execution_count": null,
   "id": "80174358-bcbc-49a6-b9e8-e0da12849b7f",
   "metadata": {},
   "outputs": [],
   "source": [
    "dict(segmentation)"
   ]
  },
  {
   "cell_type": "code",
   "execution_count": null,
   "id": "74b6423b-038d-4913-9356-241bad9cfbff",
   "metadata": {},
   "outputs": [],
   "source": [
    "evaluation_annotation_file[\"annotations\"] = [ann for ann in evaluation_annotation_file[\"annotations\"]]"
   ]
  },
  {
   "cell_type": "code",
   "execution_count": null,
   "id": "46133ae5-c5cb-4ea4-9d32-46909bb9384e",
   "metadata": {},
   "outputs": [],
   "source": [
    "# for annotation in evaluation_annotation_file[\"annotations\"]:\n",
    "#     for segmentation in annotation[\"segmentations\"]:\n",
    "#         segmentation[\"counts\"] = segmentation[\"counts\"].decode(\"utf-8\")"
   ]
  },
  {
   "cell_type": "code",
   "execution_count": 13,
   "id": "4fa4bcc1-1fee-4e72-a4cb-ad32efd65f88",
   "metadata": {},
   "outputs": [
    {
     "data": {
      "text/plain": [
       "dict_keys(['info', 'videos', 'annotations', 'categories'])"
      ]
     },
     "execution_count": 13,
     "metadata": {},
     "output_type": "execute_result"
    }
   ],
   "source": [
    "evaluation_annotation_file.keys()"
   ]
  },
  {
   "cell_type": "code",
   "execution_count": 12,
   "id": "615f9066-386b-4bf4-bbda-f4fa0bb82624",
   "metadata": {},
   "outputs": [],
   "source": [
    "import json\n",
    "with open('evaluation/gt_data_eval.json', 'w') as f:\n",
    "    json.dump(evaluation_annotation_file, f)"
   ]
  },
  {
   "cell_type": "code",
   "execution_count": null,
   "id": "501ccfb7-4c4a-4fa1-ba56-a967a3ab58e3",
   "metadata": {},
   "outputs": [],
   "source": []
  },
  {
   "cell_type": "code",
   "execution_count": null,
   "id": "bf011396-eda8-4cba-9878-ac164ffd74e2",
   "metadata": {},
   "outputs": [],
   "source": []
  },
  {
   "cell_type": "code",
   "execution_count": null,
   "id": "e58fda5b-6d25-4d93-adf1-b06f6e08c98d",
   "metadata": {},
   "outputs": [],
   "source": []
  },
  {
   "cell_type": "code",
   "execution_count": 1,
   "id": "30703a25-605e-4ce9-b4b8-9f2f6c245a64",
   "metadata": {},
   "outputs": [],
   "source": [
    "annotation_indices = [28, 33, 42, 59]\n",
    "video_indice = -1\n",
    "seq_id = 0\n",
    "predictions_list = []\n",
    "for i in range(1800, (1 + len(annotation_indices)) * 36):\n",
    "    print(i)"
   ]
  },
  {
   "cell_type": "code",
   "execution_count": 2,
   "id": "ae2e1772-1f2a-4e7d-be37-d22d25f325b7",
   "metadata": {},
   "outputs": [
    {
     "data": {
      "text/plain": [
       "684"
      ]
     },
     "execution_count": 2,
     "metadata": {},
     "output_type": "execute_result"
    }
   ],
   "source": [
    "36*19"
   ]
  },
  {
   "cell_type": "code",
   "execution_count": null,
   "id": "e57c6dab-0741-4a95-9dfb-7907a81cb1cd",
   "metadata": {},
   "outputs": [],
   "source": []
  }
 ],
 "metadata": {
  "kernelspec": {
   "display_name": "Python 3",
   "language": "python",
   "name": "python3"
  },
  "language_info": {
   "codemirror_mode": {
    "name": "ipython",
    "version": 3
   },
   "file_extension": ".py",
   "mimetype": "text/x-python",
   "name": "python",
   "nbconvert_exporter": "python",
   "pygments_lexer": "ipython3",
   "version": "3.8.2"
  }
 },
 "nbformat": 4,
 "nbformat_minor": 5
}
